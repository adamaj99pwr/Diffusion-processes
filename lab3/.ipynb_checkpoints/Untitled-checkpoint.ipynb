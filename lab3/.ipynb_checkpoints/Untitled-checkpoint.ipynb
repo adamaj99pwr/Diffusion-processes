{
 "cells": [
  {
   "cell_type": "code",
   "execution_count": 3,
   "id": "1ef01904",
   "metadata": {},
   "outputs": [],
   "source": [
    "import networkx as nx\n",
    "from itertools import combinations"
   ]
  },
  {
   "cell_type": "code",
   "execution_count": 4,
   "id": "df501bd6",
   "metadata": {},
   "outputs": [],
   "source": [
    "def random_graph(N):\n",
    "    nodes = list(range(N))\n",
    "    pairs = list(combinations(nodes, 2))\n",
    "    G = nx.Graph()\n",
    "    G.add_nodes_from(nodes)"
   ]
  },
  {
   "cell_type": "code",
   "execution_count": null,
   "id": "adbe8a42",
   "metadata": {},
   "outputs": [],
   "source": []
  }
 ],
 "metadata": {
  "kernelspec": {
   "display_name": "Python 3 (ipykernel)",
   "language": "python",
   "name": "python3"
  },
  "language_info": {
   "codemirror_mode": {
    "name": "ipython",
    "version": 3
   },
   "file_extension": ".py",
   "mimetype": "text/x-python",
   "name": "python",
   "nbconvert_exporter": "python",
   "pygments_lexer": "ipython3",
   "version": "3.9.12"
  }
 },
 "nbformat": 4,
 "nbformat_minor": 5
}
