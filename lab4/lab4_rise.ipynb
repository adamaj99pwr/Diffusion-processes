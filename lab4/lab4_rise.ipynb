{
 "cells": [
  {
   "cell_type": "code",
   "execution_count": 1,
   "metadata": {
    "slideshow": {
     "slide_type": "skip"
    }
   },
   "outputs": [],
   "source": [
    "import matplotlib.pyplot as plt\n",
    "import numpy as np\n",
    "import random as rd\n",
    "import os\n",
    "import glob\n",
    "import networkx as nx\n",
    "import imageio\n",
    "import pandas as pd"
   ]
  },
  {
   "cell_type": "markdown",
   "metadata": {
    "slideshow": {
     "slide_type": "slide"
    }
   },
   "source": [
    "### Task 1 & Task 2 "
   ]
  },
  {
   "cell_type": "code",
   "execution_count": 2,
   "metadata": {
    "slideshow": {
     "slide_type": "skip"
    }
   },
   "outputs": [],
   "source": [
    "class Agent(): \n",
    "    \"\"\"\n",
    "        Class representing an agent moving on the lattice.\n",
    "    \"\"\"\n",
    "    \n",
    "    def __init__(self, x0, y0):\n",
    "        \"\"\"\n",
    "            Object initialization.\n",
    "            \n",
    "            Args:\n",
    "                x0 - starting x-coordinate (a number),\n",
    "                y0 - starting y-coordinate (a number).\n",
    "        \"\"\"\n",
    "        \n",
    "        assert type(x0) == int or type(x0) == float\n",
    "        assert type(y0) == int or type(y0) == float\n",
    "        \n",
    "        self.x = x0\n",
    "        self.y = y0\n",
    "        self.xs = [x0]\n",
    "        self.ys = [y0]\n",
    "        \n",
    "    def Reset(self):\n",
    "        \"\"\"\n",
    "            Function to restore object's initial parameters.\n",
    "        \"\"\"\n",
    "        \n",
    "        x0 = self.xs[0]\n",
    "        y0 = self.ys[0]\n",
    "        self.__init__(x0, y0)\n",
    "        \n",
    "    def RandomWalk(self, steps):\n",
    "        \"\"\"\n",
    "            Simulation of a random walk with specified number of steps.\n",
    "            \n",
    "            Args:\n",
    "                steps - number of steps (int).\n",
    "        \"\"\"\n",
    "        \n",
    "        assert type(steps) == int\n",
    "        assert steps > 0\n",
    "\n",
    "        for i in range(steps):\n",
    "            direction = rd.randint(1, 4)\n",
    "            if direction == 1: \n",
    "                self.x += 1\n",
    "                self.xs.append(self.x)\n",
    "                self.ys.append(self.y)\n",
    "            elif direction == 2: \n",
    "                self.x -= 1\n",
    "                self.xs.append(self.x)\n",
    "                self.ys.append(self.y)\n",
    "            elif direction == 3: \n",
    "                self.y += 1\n",
    "                self.ys.append(self.y)\n",
    "                self.xs.append(self.x)\n",
    "            else: \n",
    "                self.y -= 1\n",
    "                self.ys.append(self.y)\n",
    "                self.xs.append(self.x)\n",
    "                \n",
    "    def PearsonRW(self, steps):\n",
    "        \"\"\"\n",
    "            Simulation of a Pearson's random walk with specified number of steps.\n",
    "            \n",
    "            Args:\n",
    "                steps - number of steps (int).\n",
    "        \"\"\"     \n",
    "        \n",
    "        assert type(steps) == int\n",
    "        assert steps > 0\n",
    "\n",
    "        for i in range(steps):\n",
    "            direction = rd.random()*2*np.pi\n",
    "            self.x += np.cos(direction)\n",
    "            self.y += np.sin(direction)\n",
    "            self.xs.append(self.x)\n",
    "            self.ys.append(self.y)\n",
    "    \n",
    "    def PlotTrajectory(self, walktype):\n",
    "        \"\"\"\n",
    "            Function to generate an animated GIF of agent's trajectory.\n",
    "            \n",
    "            Args:\n",
    "                walktype - 'rw' for random walk or 'prw' for Pearson's random walk.\n",
    "        \"\"\"\n",
    "        \n",
    "        assert walktype in ['rw', 'prw']\n",
    "        \n",
    "        try:\n",
    "            os.makedirs('animation')\n",
    "        except FileExistsError:\n",
    "            pass\n",
    "        \n",
    "        xs = self.xs\n",
    "        ys = self.ys\n",
    "        \n",
    "        plt.figure(figsize=(10,6), dpi=300)\n",
    "        plt.scatter(xs[0], ys[0], c='green')\n",
    "        plt.xlim([min(xs)-0.1*min(xs), max(xs)+0.1*max(xs)])\n",
    "        plt.ylim([min(ys)-0.1*min(ys), max(ys)+0.1*max(ys)])\n",
    "        if walktype == 'rw':\n",
    "            plt.title(f'Random walk, steps = {len(xs)-1}')\n",
    "        elif walktype == 'prw':\n",
    "            plt.title(f'Pearson random walk, steps = {len(xs)-1}')\n",
    "        plt.savefig('animation/0.png')\n",
    "        \n",
    "        for i in range(1, len(xs)):\n",
    "            plt.plot(xs[:i+1], ys[:i+1], color='black')\n",
    "            plt.savefig(f'animation/{i}.png')\n",
    "        \n",
    "        plt.scatter(xs[-1], ys[-1], c='red')\n",
    "        plt.savefig(f'animation/{len(xs)}.png')\n",
    "        \n",
    "        g = glob.glob('animation/*.png')\n",
    "        g_sorted = [f'animation\\\\{j}.png' for j in range(len(g))]\n",
    "        frames = [imageio.imread(frame) for frame in g_sorted]\n",
    "\n",
    "        if walktype == 'rw':\n",
    "            imageio.mimsave('animation/rw_trajectory.gif', frames)\n",
    "        elif walktype == 'prw':\n",
    "            imageio.mimsave('animation/prw_trajectory.gif', frames)\n",
    "        \n",
    "        for file in g:\n",
    "            os.remove(file)\n",
    "        \n",
    "        plt.close()         "
   ]
  },
  {
   "cell_type": "code",
   "execution_count": null,
   "metadata": {
    "slideshow": {
     "slide_type": "skip"
    }
   },
   "outputs": [],
   "source": [
    "a = Agent(50, 50)\n",
    "a.RandomWalk(100)\n",
    "a.PlotTrajectory('rw')"
   ]
  },
  {
   "cell_type": "code",
   "execution_count": null,
   "metadata": {
    "slideshow": {
     "slide_type": "skip"
    }
   },
   "outputs": [],
   "source": [
    "a.Reset()\n",
    "a.PearsonRW(100)\n",
    "a.PlotTrajectory('prw')"
   ]
  },
  {
   "cell_type": "markdown",
   "metadata": {
    "slideshow": {
     "slide_type": "slide"
    }
   },
   "source": [
    "<img src=\"animation/rw_trajectory.gif\" style=\"width:1000px;height:600px\"/>"
   ]
  },
  {
   "cell_type": "markdown",
   "metadata": {
    "slideshow": {
     "slide_type": "slide"
    }
   },
   "source": [
    "<img src=\"animation/prw_trajectory.gif\" style=\"width:1000px;height:600px\"/>"
   ]
  },
  {
   "cell_type": "code",
   "execution_count": 4,
   "metadata": {
    "slideshow": {
     "slide_type": "skip"
    }
   },
   "outputs": [],
   "source": [
    "a = Agent(100, 100)\n",
    "a.PearsonRW(1000)\n",
    "x, y = a.xs, a.ys"
   ]
  },
  {
   "cell_type": "code",
   "execution_count": 9,
   "metadata": {
    "slideshow": {
     "slide_type": "skip"
    }
   },
   "outputs": [],
   "source": [
    "plt.figure(figsize=(10, 6), dpi=150)\n",
    "plt.scatter(x[0], y[0], c='green', label='start', zorder=1)\n",
    "plt.plot(x, y, color='black', zorder=-1)\n",
    "plt.scatter(x[-1], y[-1], c='red', label='stop', zorder=1)\n",
    "plt.legend()\n",
    "plt.savefig('plots/prw100.png')\n",
    "plt.close()"
   ]
  },
  {
   "cell_type": "markdown",
   "metadata": {
    "slideshow": {
     "slide_type": "slide"
    }
   },
   "source": [
    "![alternative text](plots/prw100.png)"
   ]
  },
  {
   "cell_type": "code",
   "execution_count": 10,
   "metadata": {},
   "outputs": [],
   "source": [
    "a = Agent(-100, -100)\n",
    "a.PearsonRW(1000)\n",
    "x, y = a.xs, a.ys"
   ]
  },
  {
   "cell_type": "code",
   "execution_count": 11,
   "metadata": {},
   "outputs": [],
   "source": [
    "plt.figure(figsize=(10, 6), dpi=150)\n",
    "plt.scatter(x[0], y[0], c='green', label='start', zorder=1)\n",
    "plt.plot(x, y, color='black', zorder=-1)\n",
    "plt.scatter(x[-1], y[-1], c='red', label='stop', zorder=1)\n",
    "plt.legend()\n",
    "plt.savefig('plots/prw-100.png')\n",
    "plt.close()"
   ]
  },
  {
   "cell_type": "markdown",
   "metadata": {
    "slideshow": {
     "slide_type": "slide"
    }
   },
   "source": [
    "![alternative text](plots/prw-100.png)"
   ]
  },
  {
   "cell_type": "code",
   "execution_count": 13,
   "metadata": {
    "slideshow": {
     "slide_type": "skip"
    }
   },
   "outputs": [],
   "source": [
    "a = Agent(0, 0)\n",
    "a.PearsonRW(1000)\n",
    "x, y = a.xs, a.ys"
   ]
  },
  {
   "cell_type": "code",
   "execution_count": 14,
   "metadata": {
    "slideshow": {
     "slide_type": "skip"
    }
   },
   "outputs": [],
   "source": [
    "plt.figure(figsize=(10, 6), dpi=150)\n",
    "plt.scatter(x[0], y[0], c='green', label='start', zorder=1)\n",
    "plt.plot(x, y, color='black', zorder=-1)\n",
    "plt.scatter(x[-1], y[-1], c='red', label='stop', zorder=1)\n",
    "plt.legend()\n",
    "plt.savefig('plots/prw0.png')\n",
    "plt.close()"
   ]
  },
  {
   "cell_type": "markdown",
   "metadata": {
    "slideshow": {
     "slide_type": "slide"
    }
   },
   "source": [
    "![alternative text](plots/prw0.png)"
   ]
  },
  {
   "cell_type": "code",
   "execution_count": 3,
   "metadata": {
    "slideshow": {
     "slide_type": "skip"
    }
   },
   "outputs": [],
   "source": [
    "a1 = Agent(0, 0)\n",
    "AN = np.zeros(1000)\n",
    "for i in range(1000):\n",
    "    a1.PearsonRW(1000)\n",
    "    right_half = [x for x in a1.xs if x > 0]\n",
    "    AN[i] = len(right_half) / len(a1.xs)\n",
    "    a1.Reset()"
   ]
  },
  {
   "cell_type": "code",
   "execution_count": 5,
   "metadata": {
    "slideshow": {
     "slide_type": "slide"
    }
   },
   "outputs": [
    {
     "name": "stdout",
     "output_type": "stream",
     "text": [
      "AN expected value: 0.5060879120879122\n"
     ]
    }
   ],
   "source": [
    "print(f'AN expected value: {np.mean(AN)}')"
   ]
  },
  {
   "cell_type": "code",
   "execution_count": 7,
   "metadata": {
    "slideshow": {
     "slide_type": "skip"
    }
   },
   "outputs": [],
   "source": [
    "plt.figure(figsize=(16,8), dpi=200)\n",
    "plt.hist(AN, density=True, color='purple', bins=50)\n",
    "plt.xlabel(r'$A_N$')\n",
    "plt.ylabel('density')\n",
    "plt.title(r'$A_N$ density histogram')\n",
    "plt.savefig('plots/AN.png')\n",
    "plt.close()"
   ]
  },
  {
   "cell_type": "markdown",
   "metadata": {
    "slideshow": {
     "slide_type": "slide"
    }
   },
   "source": [
    "![alternative text](plots/AN.png)"
   ]
  },
  {
   "cell_type": "code",
   "execution_count": 8,
   "metadata": {
    "slideshow": {
     "slide_type": "skip"
    }
   },
   "outputs": [],
   "source": [
    "a2 = Agent(0, 0)\n",
    "BN = np.zeros(1000)\n",
    "for i in range(1000):\n",
    "    a2.PearsonRW(1000)\n",
    "    pairs = [(a2.xs[j], a2.ys[j]) for j in range(1, 1001)]\n",
    "    first_quad = [p for p in pairs if p[0] > 0 and p[1] > 0]\n",
    "    BN[i] = len(first_quad) / len(pairs)\n",
    "    a2.Reset()"
   ]
  },
  {
   "cell_type": "code",
   "execution_count": 9,
   "metadata": {
    "slideshow": {
     "slide_type": "slide"
    }
   },
   "outputs": [
    {
     "name": "stdout",
     "output_type": "stream",
     "text": [
      "BN expected value: 0.24604499999999999\n"
     ]
    }
   ],
   "source": [
    "print(f'BN expected value: {np.mean(BN)}')"
   ]
  },
  {
   "cell_type": "code",
   "execution_count": 10,
   "metadata": {
    "slideshow": {
     "slide_type": "skip"
    }
   },
   "outputs": [],
   "source": [
    "plt.figure(figsize=(16,8), dpi=200)\n",
    "plt.hist(BN, density=True, color='purple', bins=50)\n",
    "plt.xlabel(r'$B_N$')\n",
    "plt.ylabel('density')\n",
    "plt.title(r'$B_N$ density histogram')\n",
    "plt.savefig('plots/BN.png')\n",
    "plt.close()"
   ]
  },
  {
   "cell_type": "markdown",
   "metadata": {
    "slideshow": {
     "slide_type": "slide"
    }
   },
   "source": [
    "![alternative text](plots/BN.png)"
   ]
  },
  {
   "cell_type": "markdown",
   "metadata": {
    "slideshow": {
     "slide_type": "slide"
    }
   },
   "source": [
    "### Task 3"
   ]
  },
  {
   "cell_type": "code",
   "execution_count": 3,
   "metadata": {
    "slideshow": {
     "slide_type": "skip"
    }
   },
   "outputs": [],
   "source": [
    "def SnapShot(graph, node, ind, pos):\n",
    "    \"\"\"\n",
    "        Function to plot one frame in graph random walk and save it as .png file.\n",
    "        Helper function for GraphRW function, not recommended to use independently.\n",
    "        \n",
    "        Args:\n",
    "            graph - networkx graph object,\n",
    "            node - currently visited node,\n",
    "            ind - number of saved animation,\n",
    "            pos - position of the graph (networkx layout).\n",
    "            \n",
    "    \"\"\"\n",
    "\n",
    "    nodes = list(graph.nodes)\n",
    "    color_map = ['green']*(len(nodes))\n",
    "    nodeind = nodes.index(node)\n",
    "    color_map[nodeind] = 'blue'\n",
    "    plt.figure(figsize=(10,6), dpi=300)\n",
    "    nx.draw(graph, node_color=color_map, with_labels=True, pos=pos)            \n",
    "    plt.savefig(f'animation/{ind}.png')\n",
    "    plt.clf()\n",
    "    plt.close()"
   ]
  },
  {
   "cell_type": "code",
   "execution_count": 4,
   "metadata": {
    "slideshow": {
     "slide_type": "skip"
    }
   },
   "outputs": [],
   "source": [
    "def GraphRW(graph, origin, animate=False, filename=None): \n",
    "    \"\"\"\n",
    "        Simulation of random walk on a graph.\n",
    "        \n",
    "        Args:\n",
    "            graph - netowrkx graph object,\n",
    "            origin - starting node,\n",
    "            animate - logical flag indicating whether to create an animation or not,\n",
    "            filename - name of the output .png file.\n",
    "    \"\"\"\n",
    "    \n",
    "    nodes = list(graph.nodes)\n",
    "    cur = origin\n",
    "    visited = set()\n",
    "    visited.add(cur)\n",
    "    nodes_hit = [(cur, 0)]\n",
    "    i = 0\n",
    "    \n",
    "    if animate == True:\n",
    "        try:\n",
    "            os.makedirs('animation')\n",
    "        except FileExistsError:\n",
    "            pass\n",
    "        \n",
    "        pos = nx.spring_layout(graph)\n",
    "        SnapShot(graph, cur, i, pos)\n",
    "        \n",
    "    while len(visited) < len(nodes):\n",
    "        \n",
    "        nbrs = [j for j in graph.neighbors(cur)]\n",
    "        cur = rd.choice(nbrs)\n",
    "        i += 1\n",
    "        if not cur in visited:\n",
    "            visited.add(cur)\n",
    "            nodes_hit.append((cur, i))\n",
    "        \n",
    "        if animate == True:\n",
    "            SnapShot(graph, cur, i, pos)\n",
    "        \n",
    "    if animate == True:\n",
    "        g = glob.glob('animation/*.png')\n",
    "        g_sorted = [f'animation\\\\{j}.png' for j in range(len(g))]\n",
    "        frames = [imageio.imread(frame) for frame in g_sorted]\n",
    "        imageio.mimsave(f'animation/{filename}_rw.gif', frames)\n",
    "        \n",
    "        for file in g:\n",
    "            os.remove(file)\n",
    "    \n",
    "    hit_times = sorted(nodes_hit)\n",
    "        \n",
    "    return hit_times"
   ]
  },
  {
   "cell_type": "code",
   "execution_count": 5,
   "metadata": {
    "slideshow": {
     "slide_type": "skip"
    }
   },
   "outputs": [],
   "source": [
    "def avg_hit_times(graph, origin, steps):\n",
    "    \"\"\"\n",
    "        Function to calculate average hitting times from origin node to all other nodes.\n",
    "        \n",
    "        Args:\n",
    "            graph - networkx graph object,\n",
    "            origin - starting node,\n",
    "            steps - number of Monte Carlo simulations performed to compute the average (int).\n",
    "    \"\"\"\n",
    "    \n",
    "    assert type(steps) == int\n",
    "    \n",
    "    nodes = list(graph.nodes)\n",
    "    avgs = [0]*len(nodes)\n",
    "    ht = pd.DataFrame(list(zip(nodes, avgs)), columns = ['node', 'avg_hit_time'])\n",
    "\n",
    "    for i in range(steps):\n",
    "        htimes = GraphRW(graph, origin)\n",
    "        times_add = [j[1] for j in htimes]\n",
    "        ht['avg_hit_time'] += times_add\n",
    "\n",
    "    ht['avg_hit_time'] /= steps\n",
    "\n",
    "    return ht"
   ]
  },
  {
   "cell_type": "code",
   "execution_count": null,
   "metadata": {
    "slideshow": {
     "slide_type": "skip"
    }
   },
   "outputs": [],
   "source": [
    "g = nx.erdos_renyi_graph(20, 0.5)\n",
    "GraphRW(g, 5, animate=True, filename='erdos_renyi')"
   ]
  },
  {
   "cell_type": "code",
   "execution_count": null,
   "metadata": {
    "slideshow": {
     "slide_type": "skip"
    }
   },
   "outputs": [],
   "source": [
    "g1 = nx.watts_strogatz_graph(20, 2, 0.3)\n",
    "GraphRW(g1, 10, animate=True, filename='watts_strogatz')"
   ]
  },
  {
   "cell_type": "code",
   "execution_count": null,
   "metadata": {
    "slideshow": {
     "slide_type": "skip"
    }
   },
   "outputs": [],
   "source": [
    "g2 = nx.barabasi_albert_graph(20, 3)\n",
    "GraphRW(g2, 15, animate=True, filename='barabasi_albert')"
   ]
  },
  {
   "cell_type": "markdown",
   "metadata": {
    "slideshow": {
     "slide_type": "slide"
    }
   },
   "source": [
    "### Random Graph"
   ]
  },
  {
   "cell_type": "markdown",
   "metadata": {
    "slideshow": {
     "slide_type": "slide"
    }
   },
   "source": [
    "<img src=\"animation/erdos_renyi_rw.gif\" style=\"width:1000px;height:600px\"/>"
   ]
  },
  {
   "cell_type": "code",
   "execution_count": 8,
   "metadata": {
    "slideshow": {
     "slide_type": "skip"
    }
   },
   "outputs": [],
   "source": [
    "g3 = nx.erdos_renyi_graph(100, 0.5)"
   ]
  },
  {
   "cell_type": "code",
   "execution_count": 9,
   "metadata": {
    "slideshow": {
     "slide_type": "skip"
    }
   },
   "outputs": [],
   "source": [
    "er = avg_hit_times(g3, 0, 1000)"
   ]
  },
  {
   "cell_type": "code",
   "execution_count": 10,
   "metadata": {
    "slideshow": {
     "slide_type": "skip"
    }
   },
   "outputs": [],
   "source": [
    "er1 = avg_hit_times(g3, 50, 1000)"
   ]
  },
  {
   "cell_type": "code",
   "execution_count": 16,
   "metadata": {
    "slideshow": {
     "slide_type": "skip"
    }
   },
   "outputs": [],
   "source": [
    "plt.figure(figsize=(16, 8), dpi=200)\n",
    "plt.scatter(er['node'][0], er['avg_hit_time'][0], c='red', marker='x', s=200, label='Origin node')\n",
    "plt.scatter(er['node'][1:], er['avg_hit_time'][1:], c='black', label='Target nodes')\n",
    "plt.xlabel('Node')\n",
    "plt.ylabel('Avg hit time')\n",
    "plt.title('Average hitting times for Random Graph')\n",
    "plt.grid()\n",
    "plt.legend()\n",
    "plt.savefig('plots/er.png')\n",
    "plt.close()"
   ]
  },
  {
   "cell_type": "code",
   "execution_count": 17,
   "metadata": {
    "slideshow": {
     "slide_type": "skip"
    }
   },
   "outputs": [],
   "source": [
    "plt.figure(figsize=(16, 8), dpi=200)\n",
    "plt.scatter(er1['node'][50], er1['avg_hit_time'][50], c='red', marker='x', s=200, label='Origin node')\n",
    "plt.scatter(er1['node'][:50], er1['avg_hit_time'][:50], c='black', label='Target nodes')\n",
    "plt.scatter(er1['node'][51:], er1['avg_hit_time'][51:], c='black')\n",
    "plt.xlabel('Node')\n",
    "plt.ylabel('Avg hit time')\n",
    "plt.title('Average hitting times for Random Graph')\n",
    "plt.grid()\n",
    "plt.legend()\n",
    "plt.savefig('plots/er1.png')\n",
    "plt.close()"
   ]
  },
  {
   "cell_type": "markdown",
   "metadata": {
    "slideshow": {
     "slide_type": "slide"
    }
   },
   "source": [
    "![alternative text](plots/er.png)"
   ]
  },
  {
   "cell_type": "markdown",
   "metadata": {
    "slideshow": {
     "slide_type": "slide"
    }
   },
   "source": [
    "![alternative text](plots/er1.png)"
   ]
  },
  {
   "cell_type": "markdown",
   "metadata": {
    "slideshow": {
     "slide_type": "slide"
    }
   },
   "source": [
    "### Watts-Strogatz"
   ]
  },
  {
   "cell_type": "markdown",
   "metadata": {
    "slideshow": {
     "slide_type": "slide"
    }
   },
   "source": [
    "<img src=\"animation/watts_strogatz_rw.gif\" style=\"width:1000px;height:600px\"/>"
   ]
  },
  {
   "cell_type": "code",
   "execution_count": 19,
   "metadata": {
    "slideshow": {
     "slide_type": "skip"
    }
   },
   "outputs": [],
   "source": [
    "g4 = nx.watts_strogatz_graph(100, 10, 0.3)"
   ]
  },
  {
   "cell_type": "code",
   "execution_count": 20,
   "metadata": {
    "slideshow": {
     "slide_type": "skip"
    }
   },
   "outputs": [],
   "source": [
    "ws = avg_hit_times(g4, 0, 1000)"
   ]
  },
  {
   "cell_type": "code",
   "execution_count": 21,
   "metadata": {
    "slideshow": {
     "slide_type": "skip"
    }
   },
   "outputs": [],
   "source": [
    "ws1 = avg_hit_times(g4, 50, 1000)"
   ]
  },
  {
   "cell_type": "code",
   "execution_count": 22,
   "metadata": {
    "slideshow": {
     "slide_type": "skip"
    }
   },
   "outputs": [],
   "source": [
    "plt.figure(figsize=(16, 8), dpi=200)\n",
    "plt.scatter(ws['node'][0], ws['avg_hit_time'][0], c='red', marker='x', s=200, label='Origin node')\n",
    "plt.scatter(ws['node'][1:], ws['avg_hit_time'][1:], c='black', label='Target nodes')\n",
    "plt.xlabel('Node')\n",
    "plt.ylabel('Avg hit time')\n",
    "plt.title('Average hitting times for Watts-Strogatz Graph')\n",
    "plt.grid()\n",
    "plt.legend()\n",
    "plt.savefig('plots/ws.png')\n",
    "plt.close()"
   ]
  },
  {
   "cell_type": "code",
   "execution_count": 23,
   "metadata": {
    "slideshow": {
     "slide_type": "skip"
    }
   },
   "outputs": [],
   "source": [
    "plt.figure(figsize=(16, 8), dpi=200)\n",
    "plt.scatter(ws1['node'][50], ws1['avg_hit_time'][50], c='red', marker='x', s=200, label='Origin node')\n",
    "plt.scatter(ws1['node'][:50], ws1['avg_hit_time'][:50], c='black', label='Target nodes')\n",
    "plt.scatter(ws1['node'][51:], ws1['avg_hit_time'][51:], c='black')\n",
    "plt.xlabel('Node')\n",
    "plt.ylabel('Avg hit time')\n",
    "plt.title('Average hitting times for Watts-Strogatz Graph')\n",
    "plt.grid()\n",
    "plt.legend()\n",
    "plt.savefig('plots/ws1.png')\n",
    "plt.close()"
   ]
  },
  {
   "cell_type": "markdown",
   "metadata": {
    "slideshow": {
     "slide_type": "slide"
    }
   },
   "source": [
    "![alternative text](plots/ws.png)"
   ]
  },
  {
   "cell_type": "markdown",
   "metadata": {
    "slideshow": {
     "slide_type": "slide"
    }
   },
   "source": [
    "![alternative text](plots/ws1.png)"
   ]
  },
  {
   "cell_type": "markdown",
   "metadata": {
    "slideshow": {
     "slide_type": "slide"
    }
   },
   "source": [
    "### Barabasi-Albert"
   ]
  },
  {
   "cell_type": "markdown",
   "metadata": {
    "slideshow": {
     "slide_type": "slide"
    }
   },
   "source": [
    "<img src=\"animation/barabasi_albert_rw.gif\" style=\"width:1000px;height:600px\"/>"
   ]
  },
  {
   "cell_type": "code",
   "execution_count": 24,
   "metadata": {
    "slideshow": {
     "slide_type": "skip"
    }
   },
   "outputs": [],
   "source": [
    "g5 = nx.barabasi_albert_graph(100, 3)"
   ]
  },
  {
   "cell_type": "code",
   "execution_count": 25,
   "metadata": {
    "slideshow": {
     "slide_type": "skip"
    }
   },
   "outputs": [],
   "source": [
    "ba = avg_hit_times(g5, 0, 1000)"
   ]
  },
  {
   "cell_type": "code",
   "execution_count": 26,
   "metadata": {
    "slideshow": {
     "slide_type": "skip"
    }
   },
   "outputs": [],
   "source": [
    "ba1 = avg_hit_times(g5, 50, 1000)"
   ]
  },
  {
   "cell_type": "code",
   "execution_count": 28,
   "metadata": {
    "slideshow": {
     "slide_type": "skip"
    }
   },
   "outputs": [],
   "source": [
    "plt.figure(figsize=(16, 8), dpi=200)\n",
    "plt.scatter(ba['node'][0], ba['avg_hit_time'][0], c='red', marker='x', s=200, label='Origin node')\n",
    "plt.scatter(ba['node'][1:], ba['avg_hit_time'][1:], c='black', label='Target nodes')\n",
    "plt.xlabel('Node')\n",
    "plt.ylabel('Avg hit time')\n",
    "plt.title('Average hitting times for Barabasi-Albert Graph')\n",
    "plt.grid()\n",
    "plt.legend()\n",
    "plt.savefig('plots/ba.png')\n",
    "plt.close()"
   ]
  },
  {
   "cell_type": "code",
   "execution_count": 29,
   "metadata": {
    "slideshow": {
     "slide_type": "skip"
    }
   },
   "outputs": [],
   "source": [
    "plt.figure(figsize=(16, 8), dpi=200)\n",
    "plt.scatter(ba1['node'][50], ba1['avg_hit_time'][50], c='red', marker='x', s=200, label='Origin node')\n",
    "plt.scatter(ba1['node'][:50], ba1['avg_hit_time'][:50], c='black', label='Target nodes')\n",
    "plt.scatter(ba1['node'][51:], ba1['avg_hit_time'][51:], c='black')\n",
    "plt.xlabel('Node')\n",
    "plt.ylabel('Avg hit time')\n",
    "plt.title('Average hitting times for Barabasi-Albert Graph')\n",
    "plt.grid()\n",
    "plt.legend()\n",
    "plt.savefig('plots/ba1.png')\n",
    "plt.close()"
   ]
  },
  {
   "cell_type": "markdown",
   "metadata": {
    "slideshow": {
     "slide_type": "slide"
    }
   },
   "source": [
    "![alternative text](plots/ba.png)"
   ]
  },
  {
   "cell_type": "markdown",
   "metadata": {
    "slideshow": {
     "slide_type": "slide"
    }
   },
   "source": [
    "![alternative text](plots/ba1.png)"
   ]
  },
  {
   "cell_type": "markdown",
   "metadata": {
    "slideshow": {
     "slide_type": "slide"
    }
   },
   "source": [
    "# The end"
   ]
  },
  {
   "cell_type": "code",
   "execution_count": null,
   "metadata": {},
   "outputs": [],
   "source": []
  }
 ],
 "metadata": {
  "celltoolbar": "Slideshow",
  "kernelspec": {
   "display_name": "Python 3 (ipykernel)",
   "language": "python",
   "name": "python3"
  },
  "language_info": {
   "codemirror_mode": {
    "name": "ipython",
    "version": 3
   },
   "file_extension": ".py",
   "mimetype": "text/x-python",
   "name": "python",
   "nbconvert_exporter": "python",
   "pygments_lexer": "ipython3",
   "version": "3.9.12"
  }
 },
 "nbformat": 4,
 "nbformat_minor": 4
}
