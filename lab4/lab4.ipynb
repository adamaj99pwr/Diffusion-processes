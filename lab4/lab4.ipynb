{
 "cells": [
  {
   "cell_type": "code",
   "execution_count": 66,
   "metadata": {},
   "outputs": [],
   "source": [
    "import matplotlib.pyplot as plt\n",
    "import numpy as np\n",
    "import random as rd\n",
    "import os\n",
    "import glob\n",
    "from PIL import Image"
   ]
  },
  {
   "cell_type": "code",
   "execution_count": 106,
   "metadata": {},
   "outputs": [],
   "source": [
    "class Agent():\n",
    "    def __init__(self, x0, y0):\n",
    "        self.x = x0\n",
    "        self.y = y0\n",
    "        self.xs = [x0]\n",
    "        self.ys = [y0]\n",
    "        \n",
    "    def RandomWalk(self, steps):\n",
    "\n",
    "        for i in range(steps):\n",
    "            direction = rd.randint(1, 4)\n",
    "            if direction == 1: \n",
    "                self.x += 1\n",
    "                self.xs.append(self.x)\n",
    "                self.ys.append(self.y)\n",
    "            elif direction == 2: \n",
    "                self.x -= 1\n",
    "                self.xs.append(self.x)\n",
    "                self.ys.append(self.y)\n",
    "            elif direction == 3: \n",
    "                self.y += 1\n",
    "                self.ys.append(self.y)\n",
    "                self.xs.append(self.x)\n",
    "            else: \n",
    "                self.y -= 1\n",
    "                self.ys.append(self.y)\n",
    "                self.xs.append(self.x)\n",
    "    \n",
    "    def PlotTrajectory(self):\n",
    "        \n",
    "        try:\n",
    "            os.makedirs('animation')\n",
    "        except FileExistsError:\n",
    "            files = glob.glob('animation/*')\n",
    "            for f in files:\n",
    "                os.remove(f)\n",
    "                \n",
    "        xs = self.xs\n",
    "        ys = self.ys\n",
    "        \n",
    "        plt.scatter(xs[0], ys[0], c='green')\n",
    "        plt.xlim([min(xs)-0.1*min(xs), max(xs)+0.1*max(xs)])\n",
    "        plt.ylim([min(ys)-0.1*min(ys), max(ys)+0.1*max(ys)])\n",
    "        plt.savefig('animation/0.png')\n",
    "        \n",
    "        for i in range(1, len(xs)):\n",
    "            plt.plot(xs[:i+1], ys[:i+1], color='black')\n",
    "            plt.savefig(f'animation/{i}.png')\n",
    "        \n",
    "        plt.scatter(xs[-1], ys[-1], c='red')\n",
    "        plt.savefig(f'animation/{len(xs)}.png')\n",
    "        \n",
    "        g = glob.glob('animation/*.png')\n",
    "        g_sorted = [f'animation\\\\{j}.png' for j in range(len(g))]\n",
    "        frames = [Image.open(image) for image in g_sorted]\n",
    "        frame_one = frames[0]\n",
    "        frame_one.save('animation/trajectory.gif', format='GIF', append_images=frames,\n",
    "            save_all=True, duration=200, disposal=1)\n",
    "        \n",
    "        files = glob.glob('animation/*.png')\n",
    "        for f in files:\n",
    "            os.remove(f)"
   ]
  },
  {
   "cell_type": "code",
   "execution_count": 107,
   "metadata": {},
   "outputs": [],
   "source": [
    "a = Agent(50, 50)"
   ]
  },
  {
   "cell_type": "code",
   "execution_count": 108,
   "metadata": {},
   "outputs": [],
   "source": [
    "a.RandomWalk(100)"
   ]
  },
  {
   "cell_type": "code",
   "execution_count": 109,
   "metadata": {},
   "outputs": [
    {
     "data": {
      "image/png": "[encoded data removed]",
      "text/plain": [
       "<Figure size 432x288 with 1 Axes>"
      ]
     },
     "metadata": {
      "needs_background": "light"
     },
     "output_type": "display_data"
    }
   ],
   "source": [
    "a.PlotTrajectory()"
   ]
  },
  {
   "cell_type": "code",
   "execution_count": null,
   "metadata": {},
   "outputs": [],
   "source": []
  }
 ],
 "metadata": {
  "kernelspec": {
   "display_name": "Python 3",
   "language": "python",
   "name": "python3"
  },
  "language_info": {
   "codemirror_mode": {
    "name": "ipython",
    "version": 3
   },
   "file_extension": ".py",
   "mimetype": "text/x-python",
   "name": "python",
   "nbconvert_exporter": "python",
   "pygments_lexer": "ipython3",
   "version": "3.8.1"
  }
 },
 "nbformat": 4,
 "nbformat_minor": 5
}
