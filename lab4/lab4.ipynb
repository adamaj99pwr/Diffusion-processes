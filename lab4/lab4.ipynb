{
 "cells": [
  {
   "cell_type": "code",
   "execution_count": null,
   "metadata": {},
   "outputs": [],
   "source": []
  },
  {
   "cell_type": "code",
   "execution_count": 2,
   "metadata": {},
   "outputs": [],
   "source": [
    "import matplotlib.pyplot as plt\n",
    "import numpy as np\n",
    "import random as rd\n",
    "import os\n",
    "import glob\n",
    "import networkx as nx\n",
    "import imageio\n",
    "from collections import OrderedDict\n",
    "import pandas as pd"
   ]
  },
  {
   "cell_type": "markdown",
   "metadata": {},
   "source": [
    "### Task 1 + Task 2"
   ]
  },
  {
   "cell_type": "code",
   "execution_count": 15,
   "metadata": {},
   "outputs": [],
   "source": [
    "class Agent(): \n",
    "    def __init__(self, x0, y0):\n",
    "        self.x = x0\n",
    "        self.y = y0\n",
    "        self.xs = [x0]\n",
    "        self.ys = [y0]\n",
    "        \n",
    "    def Reset(self):\n",
    "        x0 = self.xs[0]\n",
    "        y0 = self.ys[0]\n",
    "        self.__init__(x0, y0)\n",
    "        \n",
    "    def RandomWalk(self, steps):\n",
    "        \n",
    "        assert type(steps) == int\n",
    "        assert steps > 0\n",
    "\n",
    "        for i in range(steps):\n",
    "            direction = rd.randint(1, 4)\n",
    "            if direction == 1: \n",
    "                self.x += 1\n",
    "                self.xs.append(self.x)\n",
    "                self.ys.append(self.y)\n",
    "            elif direction == 2: \n",
    "                self.x -= 1\n",
    "                self.xs.append(self.x)\n",
    "                self.ys.append(self.y)\n",
    "            elif direction == 3: \n",
    "                self.y += 1\n",
    "                self.ys.append(self.y)\n",
    "                self.xs.append(self.x)\n",
    "            else: \n",
    "                self.y -= 1\n",
    "                self.ys.append(self.y)\n",
    "                self.xs.append(self.x)\n",
    "    \n",
    "    def PlotTrajectory(self, walktype):\n",
    "        \n",
    "        try:\n",
    "            os.makedirs('animation')\n",
    "        except FileExistsError:\n",
    "            pass\n",
    "        \n",
    "        xs = self.xs\n",
    "        ys = self.ys\n",
    "        \n",
    "        plt.figure(figsize=(10,6), dpi=300)\n",
    "        plt.scatter(xs[0], ys[0], c='green')\n",
    "        plt.xlim([min(xs)-0.1*min(xs), max(xs)+0.1*max(xs)])\n",
    "        plt.ylim([min(ys)-0.1*min(ys), max(ys)+0.1*max(ys)])\n",
    "        if walktype == 'rw':\n",
    "            plt.title(f'Random walk, steps = {len(xs)-1}')\n",
    "        elif walktype == 'prw':\n",
    "            plt.title(f'Pearson random walk, steps = {len(xs)-1}')\n",
    "        plt.savefig('animation/0.png')\n",
    "        \n",
    "        for i in range(1, len(xs)):\n",
    "            plt.plot(xs[:i+1], ys[:i+1], color='black')\n",
    "            plt.savefig(f'animation/{i}.png')\n",
    "        \n",
    "        plt.scatter(xs[-1], ys[-1], c='red')\n",
    "        plt.savefig(f'animation/{len(xs)}.png')\n",
    "        \n",
    "        g = glob.glob('animation/*.png')\n",
    "        g_sorted = [f'animation\\\\{j}.png' for j in range(len(g))]\n",
    "        frames = [imageio.imread(frame) for frame in g_sorted]\n",
    "\n",
    "        if walktype == 'rw':\n",
    "            imageio.mimsave('animation/rw_trajectory.gif', frames)\n",
    "        elif walktype == 'prw':\n",
    "            imageio.mimsave('animation/prw_trajectory.gif', frames)\n",
    "        \n",
    "        for file in g:\n",
    "            os.remove(file)\n",
    "        \n",
    "        plt.close()\n",
    "            \n",
    "    def PearsonRW(self, steps):\n",
    "        \n",
    "        assert type(steps) == int\n",
    "        assert steps > 0\n",
    "\n",
    "        for i in range(steps):\n",
    "            direction = rd.random()*2*np.pi\n",
    "            self.x += np.cos(direction)\n",
    "            self.y += np.sin(direction)\n",
    "            self.xs.append(self.x)\n",
    "            self.ys.append(self.y)"
   ]
  },
  {
   "cell_type": "code",
   "execution_count": 44,
   "metadata": {},
   "outputs": [],
   "source": [
    "a = Agent(50, 50)"
   ]
  },
  {
   "cell_type": "code",
   "execution_count": 45,
   "metadata": {},
   "outputs": [],
   "source": [
    "a.RandomWalk(100)"
   ]
  },
  {
   "cell_type": "code",
   "execution_count": 46,
   "metadata": {},
   "outputs": [],
   "source": [
    "a.PlotTrajectory('rw')"
   ]
  },
  {
   "cell_type": "code",
   "execution_count": 47,
   "metadata": {},
   "outputs": [],
   "source": [
    "a.Reset()"
   ]
  },
  {
   "cell_type": "code",
   "execution_count": 48,
   "metadata": {},
   "outputs": [],
   "source": [
    "a.PearsonRW(100)"
   ]
  },
  {
   "cell_type": "code",
   "execution_count": 49,
   "metadata": {},
   "outputs": [],
   "source": [
    "a.PlotTrajectory('prw')"
   ]
  },
  {
   "cell_type": "code",
   "execution_count": 16,
   "metadata": {},
   "outputs": [],
   "source": [
    "a1 = Agent(0, 0)\n",
    "AT = np.zeros(1000)\n",
    "for i in range(1000):\n",
    "    a1.PearsonRW(1000)\n",
    "    right_half = [x for x in a1.xs if x > 0]\n",
    "    AT[i] = len(right_half) / len(a1.xs)\n",
    "    a1.Reset()"
   ]
  },
  {
   "cell_type": "code",
   "execution_count": 17,
   "metadata": {},
   "outputs": [
    {
     "data": {
      "text/plain": [
       "0.48016383616383623"
      ]
     },
     "execution_count": 17,
     "metadata": {},
     "output_type": "execute_result"
    }
   ],
   "source": [
    "np.mean(AT)"
   ]
  },
  {
   "cell_type": "code",
   "execution_count": 3,
   "metadata": {
    "collapsed": true
   },
   "outputs": [
    {
     "ename": "NameError",
     "evalue": "name 'AT' is not defined",
     "output_type": "error",
     "traceback": [
      "\u001b[1;31m---------------------------------------------------------------------------\u001b[0m",
      "\u001b[1;31mNameError\u001b[0m                                 Traceback (most recent call last)",
      "\u001b[1;32m<ipython-input-3-3c361d067a30>\u001b[0m in \u001b[0;36m<module>\u001b[1;34m\u001b[0m\n\u001b[0;32m      1\u001b[0m \u001b[0mplt\u001b[0m\u001b[1;33m.\u001b[0m\u001b[0mfigure\u001b[0m\u001b[1;33m(\u001b[0m\u001b[0mfigsize\u001b[0m\u001b[1;33m=\u001b[0m\u001b[1;33m(\u001b[0m\u001b[1;36m16\u001b[0m\u001b[1;33m,\u001b[0m\u001b[1;36m8\u001b[0m\u001b[1;33m)\u001b[0m\u001b[1;33m,\u001b[0m \u001b[0mdpi\u001b[0m\u001b[1;33m=\u001b[0m\u001b[1;36m200\u001b[0m\u001b[1;33m)\u001b[0m\u001b[1;33m\u001b[0m\u001b[1;33m\u001b[0m\u001b[0m\n\u001b[1;32m----> 2\u001b[1;33m \u001b[0mplt\u001b[0m\u001b[1;33m.\u001b[0m\u001b[0mhist\u001b[0m\u001b[1;33m(\u001b[0m\u001b[0mAT\u001b[0m\u001b[1;33m,\u001b[0m \u001b[0mdensity\u001b[0m\u001b[1;33m=\u001b[0m\u001b[1;32mTrue\u001b[0m\u001b[1;33m,\u001b[0m \u001b[0mcolor\u001b[0m\u001b[1;33m=\u001b[0m\u001b[1;34m'purple'\u001b[0m\u001b[1;33m,\u001b[0m \u001b[0mbins\u001b[0m\u001b[1;33m=\u001b[0m\u001b[1;36m50\u001b[0m\u001b[1;33m)\u001b[0m\u001b[1;33m\u001b[0m\u001b[1;33m\u001b[0m\u001b[0m\n\u001b[0m\u001b[0;32m      3\u001b[0m \u001b[0mplt\u001b[0m\u001b[1;33m.\u001b[0m\u001b[0mxlabel\u001b[0m\u001b[1;33m(\u001b[0m\u001b[1;34mr'$A_T$'\u001b[0m\u001b[1;33m)\u001b[0m\u001b[1;33m\u001b[0m\u001b[1;33m\u001b[0m\u001b[0m\n\u001b[0;32m      4\u001b[0m \u001b[0mplt\u001b[0m\u001b[1;33m.\u001b[0m\u001b[0mylabel\u001b[0m\u001b[1;33m(\u001b[0m\u001b[1;34m'density'\u001b[0m\u001b[1;33m)\u001b[0m\u001b[1;33m\u001b[0m\u001b[1;33m\u001b[0m\u001b[0m\n\u001b[0;32m      5\u001b[0m \u001b[0mplt\u001b[0m\u001b[1;33m.\u001b[0m\u001b[0mtitle\u001b[0m\u001b[1;33m(\u001b[0m\u001b[1;34mr'$A_T$ density histogram'\u001b[0m\u001b[1;33m)\u001b[0m\u001b[1;33m\u001b[0m\u001b[1;33m\u001b[0m\u001b[0m\n",
      "\u001b[1;31mNameError\u001b[0m: name 'AT' is not defined"
     ]
    },
    {
     "data": {
      "text/plain": [
       "<Figure size 3200x1600 with 0 Axes>"
      ]
     },
     "metadata": {},
     "output_type": "display_data"
    }
   ],
   "source": [
    "plt.figure(figsize=(16,8), dpi=200)\n",
    "plt.hist(AT, density=True, color='purple', bins=50)\n",
    "plt.xlabel(r'$A_T$')\n",
    "plt.ylabel('density')\n",
    "plt.title(r'$A_T$ density histogram')\n",
    "plt.savefig('plots/AT.png')\n",
    "plt.close()"
   ]
  },
  {
   "cell_type": "code",
   "execution_count": 19,
   "metadata": {},
   "outputs": [],
   "source": [
    "a2 = Agent(0, 0)\n",
    "BT = np.zeros(1000)\n",
    "for i in range(1000):\n",
    "    a2.PearsonRW(1000)\n",
    "    pairs = [(a2.xs[j], a2.ys[j]) for j in range(1, 1001)]\n",
    "    first_quad = [p for p in pairs if p[0] > 0 and p[1] > 0]\n",
    "    BT[i] = len(first_quad) / len(pairs)\n",
    "    a2.Reset()"
   ]
  },
  {
   "cell_type": "code",
   "execution_count": 20,
   "metadata": {},
   "outputs": [
    {
     "data": {
      "text/plain": [
       "0.264284"
      ]
     },
     "execution_count": 20,
     "metadata": {},
     "output_type": "execute_result"
    }
   ],
   "source": [
    "np.mean(BT)"
   ]
  },
  {
   "cell_type": "code",
   "execution_count": 21,
   "metadata": {},
   "outputs": [
    {
     "data": {
      "image/png": "[encoded data removed]",
      "text/plain": [
       "<Figure size 720x432 with 1 Axes>"
      ]
     },
     "metadata": {
      "needs_background": "light"
     },
     "output_type": "display_data"
    }
   ],
   "source": [
    "plt.figure(figsize=(10,6))\n",
    "plt.hist(BT, density=True, color='purple', bins=50)\n",
    "plt.xlabel(r'$B_T$')\n",
    "plt.ylabel('density')\n",
    "plt.title(r'$B_T$ density histogram')\n",
    "plt.show()"
   ]
  },
  {
   "cell_type": "markdown",
   "metadata": {},
   "source": [
    "### Task 3"
   ]
  },
  {
   "cell_type": "code",
   "execution_count": 2,
   "metadata": {},
   "outputs": [],
   "source": [
    "def SnapShot(graph, node, ind, pos):\n",
    "    \n",
    "        nodes = list(graph.nodes)\n",
    "        color_map = ['green']*(len(nodes))\n",
    "        nodeind = nodes.index(node)\n",
    "        color_map[nodeind] = 'blue'\n",
    "        plt.figure(figsize=(10,6), dpi=300)\n",
    "        nx.draw(graph, node_color=color_map, with_labels=True, pos=pos)            \n",
    "        plt.savefig(f'animation/{ind}.png')\n",
    "        plt.clf()\n",
    "        plt.close()"
   ]
  },
  {
   "cell_type": "code",
   "execution_count": 8,
   "metadata": {},
   "outputs": [],
   "source": [
    "def GraphRW(graph, origin, animate=False, filename=None): \n",
    "    \n",
    "    nodes = list(graph.nodes)\n",
    "    cur = origin\n",
    "    visited = set()\n",
    "    visited.add(cur)\n",
    "    nodes_hit = [(cur, 0)]\n",
    "    i = 0\n",
    "    \n",
    "    if animate == True:\n",
    "        try:\n",
    "            os.makedirs('animation')\n",
    "        except FileExistsError:\n",
    "            pass\n",
    "        \n",
    "        pos = nx.spring_layout(graph)\n",
    "        SnapShot(graph, cur, i, pos)\n",
    "        \n",
    "    while len(visited) < len(nodes):\n",
    "        \n",
    "        nbrs = [j for j in graph.neighbors(cur)]\n",
    "        cur = rd.choice(nbrs)\n",
    "        i += 1\n",
    "        if not cur in visited:\n",
    "            visited.add(cur)\n",
    "            nodes_hit.append((cur, i))\n",
    "        \n",
    "        if animate == True:\n",
    "            SnapShot(graph, cur, i, pos)\n",
    "        \n",
    "    if animate == True:\n",
    "        g = glob.glob('animation/*.png')\n",
    "        g_sorted = [f'animation\\\\{j}.png' for j in range(len(g))]\n",
    "        frames = [imageio.imread(frame) for frame in g_sorted]\n",
    "        imageio.mimsave(f'animation/{filename}_rw.gif', frames)\n",
    "        \n",
    "        for file in g:\n",
    "            os.remove(file)\n",
    "    \n",
    "    hit_times = sorted(nodes_hit)\n",
    "        \n",
    "    return hit_times"
   ]
  },
  {
   "cell_type": "code",
   "execution_count": 12,
   "metadata": {},
   "outputs": [],
   "source": [
    "def avg_hit_times(graph, origin, steps):\n",
    "    \n",
    "    nodes = list(graph.nodes)\n",
    "    avgs = [0]*len(nodes)\n",
    "    ht = pd.DataFrame(list(zip(nodes, avgs)), columns = ['node', 'avg_hit_time'])\n",
    "\n",
    "    for i in range(steps):\n",
    "        htimes = GraphRW(graph, origin)\n",
    "        times_add = [j[1] for j in htimes]\n",
    "        ht['avg_hit_time'] += times_add\n",
    "\n",
    "    ht['avg_hit_time'] /= steps\n",
    "\n",
    "    return ht"
   ]
  },
  {
   "cell_type": "markdown",
   "metadata": {},
   "source": [
    "#### Animations"
   ]
  },
  {
   "cell_type": "code",
   "execution_count": 10,
   "metadata": {},
   "outputs": [],
   "source": [
    "g = nx.erdos_renyi_graph(20, 0.5)"
   ]
  },
  {
   "cell_type": "code",
   "execution_count": 60,
   "metadata": {
    "collapsed": true
   },
   "outputs": [
    {
     "data": {
      "text/plain": [
       "147"
      ]
     },
     "execution_count": 60,
     "metadata": {},
     "output_type": "execute_result"
    }
   ],
   "source": [
    "GraphRW(g, 5, animate=True, filename='erdos_renyi')"
   ]
  },
  {
   "cell_type": "code",
   "execution_count": 58,
   "metadata": {},
   "outputs": [],
   "source": [
    "g1 = nx.watts_strogatz_graph(20, 2, 0.3)"
   ]
  },
  {
   "cell_type": "code",
   "execution_count": 6,
   "metadata": {
    "collapsed": true
   },
   "outputs": [
    {
     "data": {
      "text/plain": [
       "175"
      ]
     },
     "execution_count": 6,
     "metadata": {},
     "output_type": "execute_result"
    }
   ],
   "source": [
    "GraphRW(g1, 10, animate=True, filename='watts_strogatz')"
   ]
  },
  {
   "cell_type": "code",
   "execution_count": 59,
   "metadata": {},
   "outputs": [],
   "source": [
    "g2 = nx.barabasi_albert_graph(20, 3)"
   ]
  },
  {
   "cell_type": "code",
   "execution_count": 8,
   "metadata": {
    "collapsed": true
   },
   "outputs": [
    {
     "data": {
      "text/plain": [
       "91"
      ]
     },
     "execution_count": 8,
     "metadata": {},
     "output_type": "execute_result"
    }
   ],
   "source": [
    "GraphRW(g2, 15, animate=True, filename='barabasi_albert')"
   ]
  },
  {
   "cell_type": "markdown",
   "metadata": {},
   "source": [
    "#### Analysis"
   ]
  },
  {
   "cell_type": "code",
   "execution_count": 14,
   "metadata": {},
   "outputs": [],
   "source": [
    "g3 = nx.erdos_renyi_graph(100, 0.5)"
   ]
  },
  {
   "cell_type": "code",
   "execution_count": 15,
   "metadata": {},
   "outputs": [],
   "source": [
    "g4 = nx.watts_strogatz_graph(100, 2, 0.3)"
   ]
  },
  {
   "cell_type": "code",
   "execution_count": 16,
   "metadata": {},
   "outputs": [],
   "source": [
    "g5 = nx.barabasi_albert_graph(100, 3)"
   ]
  },
  {
   "cell_type": "code",
   "execution_count": 17,
   "metadata": {},
   "outputs": [],
   "source": [
    "er = avg_hit_times(g3, 0, 1000)"
   ]
  },
  {
   "cell_type": "code",
   "execution_count": 18,
   "metadata": {},
   "outputs": [],
   "source": [
    "ws = avg_hit_times(g4, 0, 1000)"
   ]
  },
  {
   "cell_type": "code",
   "execution_count": 19,
   "metadata": {},
   "outputs": [],
   "source": [
    "ba = avg_hit_times(g5, 0, 1000)"
   ]
  },
  {
   "cell_type": "code",
   "execution_count": 27,
   "metadata": {},
   "outputs": [
    {
     "data": {
      "image/png": "[encoded data removed]",
      "text/plain": [
       "<Figure size 720x432 with 1 Axes>"
      ]
     },
     "metadata": {
      "needs_background": "light"
     },
     "output_type": "display_data"
    }
   ],
   "source": [
    "plt.figure(figsize=(10, 6))\n",
    "plt.scatter(er['node'][0], er['avg_hit_time'][0], c='red', marker='x', s=200, label='Origin node')\n",
    "plt.scatter(er['node'][1:], er['avg_hit_time'][1:], c='black', label='Target nodes')\n",
    "plt.xlabel('Node')\n",
    "plt.ylabel('Avg hit time')\n",
    "plt.title('Average hitting times for Random Graph')\n",
    "plt.grid()\n",
    "plt.legend()\n",
    "plt.show()"
   ]
  },
  {
   "cell_type": "code",
   "execution_count": 26,
   "metadata": {},
   "outputs": [
    {
     "data": {
      "image/png": "[encoded data removed]",
      "text/plain": [
       "<Figure size 720x432 with 1 Axes>"
      ]
     },
     "metadata": {
      "needs_background": "light"
     },
     "output_type": "display_data"
    }
   ],
   "source": [
    "plt.figure(figsize=(10, 6))\n",
    "plt.scatter(ws['node'][0], ws['avg_hit_time'][0], c='red', marker='x', s=200, label='Origin node')\n",
    "plt.scatter(ws['node'][1:], ws['avg_hit_time'][1:], c='black', label='Target nodes')\n",
    "plt.xlabel('Node')\n",
    "plt.ylabel('Avg hit time')\n",
    "plt.title('Average hitting times for Watts-Strogatz Graph')\n",
    "plt.grid()\n",
    "plt.legend()\n",
    "plt.show()"
   ]
  },
  {
   "cell_type": "code",
   "execution_count": 28,
   "metadata": {},
   "outputs": [
    {
     "data": {
      "image/png": "[encoded data removed]",
      "text/plain": [
       "<Figure size 720x432 with 1 Axes>"
      ]
     },
     "metadata": {
      "needs_background": "light"
     },
     "output_type": "display_data"
    }
   ],
   "source": [
    "plt.figure(figsize=(10, 6))\n",
    "plt.scatter(ba['node'][0], ba['avg_hit_time'][0], c='red', marker='x', s=200, label='Origin node')\n",
    "plt.scatter(ba['node'][1:], ba['avg_hit_time'][1:], c='black', label='Target nodes')\n",
    "plt.xlabel('Node')\n",
    "plt.ylabel('Avg hit time')\n",
    "plt.title('Average hitting times for Barabasi-Albert Graph')\n",
    "plt.grid()\n",
    "plt.legend()\n",
    "plt.show()"
   ]
  },
  {
   "cell_type": "code",
   "execution_count": 33,
   "metadata": {},
   "outputs": [],
   "source": [
    "er1 = avg_hit_times(g3, 50, 1000)"
   ]
  },
  {
   "cell_type": "code",
   "execution_count": 34,
   "metadata": {},
   "outputs": [],
   "source": [
    "ws1 = avg_hit_times(g4, 50, 1000)"
   ]
  },
  {
   "cell_type": "code",
   "execution_count": 35,
   "metadata": {},
   "outputs": [],
   "source": [
    "ba1 = avg_hit_times(g5, 50, 1000)"
   ]
  },
  {
   "cell_type": "code",
   "execution_count": 36,
   "metadata": {},
   "outputs": [
    {
     "data": {
      "text/plain": [
       "<matplotlib.legend.Legend at 0x1ac86d0>"
      ]
     },
     "execution_count": 36,
     "metadata": {},
     "output_type": "execute_result"
    },
    {
     "data": {
      "image/png": "[encoded data removed]",
      "text/plain": [
       "<Figure size 720x432 with 1 Axes>"
      ]
     },
     "metadata": {
      "needs_background": "light"
     },
     "output_type": "display_data"
    }
   ],
   "source": [
    "plt.figure(figsize=(10, 6))\n",
    "plt.scatter(er1['node'][50], er1['avg_hit_time'][50], c='red', marker='x', s=200, label='Origin node')\n",
    "plt.scatter(er1['node'][:50], er1['avg_hit_time'][:50], c='black', label='Target nodes')\n",
    "plt.scatter(er1['node'][51:], er1['avg_hit_time'][51:], c='black')\n",
    "plt.xlabel('Node')\n",
    "plt.ylabel('Avg hit time')\n",
    "plt.title('Average hitting times for Random Graph')\n",
    "plt.grid()\n",
    "plt.legend()"
   ]
  },
  {
   "cell_type": "code",
   "execution_count": 37,
   "metadata": {},
   "outputs": [
    {
     "data": {
      "text/plain": [
       "<matplotlib.legend.Legend at 0x1994eb0>"
      ]
     },
     "execution_count": 37,
     "metadata": {},
     "output_type": "execute_result"
    },
    {
     "data": {
      "image/png": "[encoded data removed]",
      "text/plain": [
       "<Figure size 720x432 with 1 Axes>"
      ]
     },
     "metadata": {
      "needs_background": "light"
     },
     "output_type": "display_data"
    }
   ],
   "source": [
    "plt.figure(figsize=(10, 6))\n",
    "plt.scatter(ws1['node'][50], ws1['avg_hit_time'][50], c='red', marker='x', s=200, label='Origin node')\n",
    "plt.scatter(ws1['node'][:50], ws1['avg_hit_time'][:50], c='black', label='Target nodes')\n",
    "plt.scatter(ws1['node'][51:], ws1['avg_hit_time'][51:], c='black')\n",
    "plt.xlabel('Node')\n",
    "plt.ylabel('Avg hit time')\n",
    "plt.title('Average hitting times for Watts-Strogatz Graph')\n",
    "plt.grid()\n",
    "plt.legend()"
   ]
  },
  {
   "cell_type": "code",
   "execution_count": 38,
   "metadata": {},
   "outputs": [
    {
     "data": {
      "image/png": "[encoded data removed]",
      "text/plain": [
       "<Figure size 720x432 with 1 Axes>"
      ]
     },
     "metadata": {
      "needs_background": "light"
     },
     "output_type": "display_data"
    }
   ],
   "source": [
    "plt.figure(figsize=(10, 6))\n",
    "plt.scatter(ba1['node'][50], ba1['avg_hit_time'][50], c='red', marker='x', s=200, label='Origin node')\n",
    "plt.scatter(ba1['node'][:50], ba1['avg_hit_time'][:50], c='black', label='Target nodes')\n",
    "plt.scatter(ba1['node'][51:], ba1['avg_hit_time'][51:], c='black')\n",
    "plt.xlabel('Node')\n",
    "plt.ylabel('Avg hit time')\n",
    "plt.title('Average hitting times for Barabasi-Albert Graph')\n",
    "plt.grid()\n",
    "plt.legend()\n",
    "plt.show()"
   ]
  },
  {
   "cell_type": "code",
   "execution_count": null,
   "metadata": {},
   "outputs": [],
   "source": []
  }
 ],
 "metadata": {
  "kernelspec": {
   "display_name": "Python 3",
   "language": "python",
   "name": "python3"
  },
  "language_info": {
   "codemirror_mode": {
    "name": "ipython",
    "version": 3
   },
   "file_extension": ".py",
   "mimetype": "text/x-python",
   "name": "python",
   "nbconvert_exporter": "python",
   "pygments_lexer": "ipython3",
   "version": "3.8.1"
  }
 },
 "nbformat": 4,
 "nbformat_minor": 5
}
