{
 "cells": [
  {
   "cell_type": "code",
   "execution_count": null,
   "id": "5aeb07fa",
   "metadata": {},
   "outputs": [],
   "source": [
    "# present in rise package"
   ]
  },
  {
   "cell_type": "code",
   "execution_count": 4,
   "id": "f7c41b26",
   "metadata": {},
   "outputs": [],
   "source": [
    "import matplotlib.pyplot as plt\n",
    "import numpy as np\n",
    "import random as rd\n",
    "import os\n",
    "import glob\n",
    "from PIL import Image\n",
    "import networkx as nx\n",
    "import imageio"
   ]
  },
  {
   "cell_type": "markdown",
   "id": "f2378cc7",
   "metadata": {},
   "source": [
    "### Task 1 + Task 2"
   ]
  },
  {
   "cell_type": "code",
   "execution_count": 15,
   "id": "53c4926d",
   "metadata": {},
   "outputs": [],
   "source": [
    "class Agent(): \n",
    "    def __init__(self, x0, y0):\n",
    "        self.x = x0\n",
    "        self.y = y0\n",
    "        self.xs = [x0]\n",
    "        self.ys = [y0]\n",
    "        \n",
    "    def Reset(self):\n",
    "        x0 = self.xs[0]\n",
    "        y0 = self.ys[0]\n",
    "        self.__init__(x0, y0)\n",
    "        \n",
    "    def RandomWalk(self, steps):\n",
    "        \n",
    "        assert type(steps) == int\n",
    "        assert steps > 0\n",
    "\n",
    "        for i in range(steps):\n",
    "            direction = rd.randint(1, 4)\n",
    "            if direction == 1: \n",
    "                self.x += 1\n",
    "                self.xs.append(self.x)\n",
    "                self.ys.append(self.y)\n",
    "            elif direction == 2: \n",
    "                self.x -= 1\n",
    "                self.xs.append(self.x)\n",
    "                self.ys.append(self.y)\n",
    "            elif direction == 3: \n",
    "                self.y += 1\n",
    "                self.ys.append(self.y)\n",
    "                self.xs.append(self.x)\n",
    "            else: \n",
    "                self.y -= 1\n",
    "                self.ys.append(self.y)\n",
    "                self.xs.append(self.x)\n",
    "    \n",
    "    def PlotTrajectory(self, walktype):\n",
    "        \n",
    "        try:\n",
    "            os.makedirs('animation')\n",
    "        except FileExistsError:\n",
    "            pass\n",
    "        \n",
    "        xs = self.xs\n",
    "        ys = self.ys\n",
    "        \n",
    "        plt.figure(figsize=(10,6), dpi=300)\n",
    "        plt.scatter(xs[0], ys[0], c='green')\n",
    "        plt.xlim([min(xs)-0.1*min(xs), max(xs)+0.1*max(xs)])\n",
    "        plt.ylim([min(ys)-0.1*min(ys), max(ys)+0.1*max(ys)])\n",
    "        if walktype == 'rw':\n",
    "            plt.title(f'Random walk, steps = {len(xs)-1}')\n",
    "        elif walktype == 'prw':\n",
    "            plt.title(f'Pearson random walk, steps = {len(xs)-1}')\n",
    "        plt.savefig('animation/0.png')\n",
    "        \n",
    "        for i in range(1, len(xs)):\n",
    "            plt.plot(xs[:i+1], ys[:i+1], color='black')\n",
    "            plt.savefig(f'animation/{i}.png')\n",
    "        \n",
    "        plt.scatter(xs[-1], ys[-1], c='red')\n",
    "        plt.savefig(f'animation/{len(xs)}.png')\n",
    "        \n",
    "        g = glob.glob('animation/*.png')\n",
    "        g_sorted = [f'animation\\\\{j}.png' for j in range(len(g))]\n",
    "        frames = [imageio.imread(frame) for frame in g_sorted]\n",
    "\n",
    "        if walktype == 'rw':\n",
    "            imageio.mimsave('animation/rw_trajectory.gif', frames)\n",
    "        elif walktype == 'prw':\n",
    "            imageio.mimsave('animation/prw_trajectory.gif', frames)\n",
    "        \n",
    "        for file in g:\n",
    "            os.remove(file)\n",
    "        \n",
    "        plt.close()\n",
    "            \n",
    "    def PearsonRW(self, steps):\n",
    "        \n",
    "        assert type(steps) == int\n",
    "        assert steps > 0\n",
    "\n",
    "        for i in range(steps):\n",
    "            direction = rd.random()*2*np.pi\n",
    "            self.x += np.cos(direction)\n",
    "            self.y += np.sin(direction)\n",
    "            self.xs.append(self.x)\n",
    "            self.ys.append(self.y)"
   ]
  },
  {
   "cell_type": "code",
   "execution_count": 44,
   "id": "ad3679d7",
   "metadata": {},
   "outputs": [],
   "source": [
    "a = Agent(50, 50)"
   ]
  },
  {
   "cell_type": "code",
   "execution_count": 45,
   "id": "a5898b03",
   "metadata": {},
   "outputs": [],
   "source": [
    "a.RandomWalk(100)"
   ]
  },
  {
   "cell_type": "code",
   "execution_count": 46,
   "id": "2374ca8e",
   "metadata": {},
   "outputs": [],
   "source": [
    "a.PlotTrajectory('rw')"
   ]
  },
  {
   "cell_type": "code",
   "execution_count": 47,
   "id": "faff3a33",
   "metadata": {},
   "outputs": [],
   "source": [
    "a.Reset()"
   ]
  },
  {
   "cell_type": "code",
   "execution_count": 48,
   "id": "fdffa03e",
   "metadata": {},
   "outputs": [],
   "source": [
    "a.PearsonRW(100)"
   ]
  },
  {
   "cell_type": "code",
   "execution_count": 49,
   "id": "d5747f2b",
   "metadata": {},
   "outputs": [],
   "source": [
    "a.PlotTrajectory('prw')"
   ]
  },
  {
   "cell_type": "code",
   "execution_count": 16,
   "id": "a7ae77f4",
   "metadata": {},
   "outputs": [],
   "source": [
    "a1 = Agent(0, 0)\n",
    "AT = np.zeros(1000)\n",
    "for i in range(1000):\n",
    "    a1.PearsonRW(1000)\n",
    "    right_half = [x for x in a1.xs if x > 0]\n",
    "    AT[i] = len(right_half) / len(a1.xs)\n",
    "    a1.Reset()"
   ]
  },
  {
   "cell_type": "code",
   "execution_count": 17,
   "id": "84efad1c",
   "metadata": {},
   "outputs": [
    {
     "data": {
      "text/plain": [
       "0.48016383616383623"
      ]
     },
     "execution_count": 17,
     "metadata": {},
     "output_type": "execute_result"
    }
   ],
   "source": [
    "np.mean(AT)"
   ]
  },
  {
   "cell_type": "code",
   "execution_count": 18,
   "id": "3a72e225",
   "metadata": {
    "scrolled": false
   },
   "outputs": [
    {
     "data": {
      "image/png": "[encoded data removed]",
      "text/plain": [
       "<Figure size 720x432 with 1 Axes>"
      ]
     },
     "metadata": {
      "needs_background": "light"
     },
     "output_type": "display_data"
    }
   ],
   "source": [
    "plt.figure(figsize=(10,6))\n",
    "plt.hist(AT, density=True, color='purple', bins=50)\n",
    "plt.xlabel(r'$A_T$')\n",
    "plt.ylabel('density')\n",
    "plt.title(r'$A_T$ density histogram')\n",
    "plt.show()"
   ]
  },
  {
   "cell_type": "code",
   "execution_count": 19,
   "id": "9d080c12",
   "metadata": {},
   "outputs": [],
   "source": [
    "a2 = Agent(0, 0)\n",
    "BT = np.zeros(1000)\n",
    "for i in range(1000):\n",
    "    a2.PearsonRW(1000)\n",
    "    pairs = [(a2.xs[j], a2.ys[j]) for j in range(1, 1001)]\n",
    "    first_quad = [p for p in pairs if p[0] > 0 and p[1] > 0]\n",
    "    BT[i] = len(first_quad) / len(pairs)\n",
    "    a2.Reset()"
   ]
  },
  {
   "cell_type": "code",
   "execution_count": 20,
   "id": "ebd59c66",
   "metadata": {},
   "outputs": [
    {
     "data": {
      "text/plain": [
       "0.264284"
      ]
     },
     "execution_count": 20,
     "metadata": {},
     "output_type": "execute_result"
    }
   ],
   "source": [
    "np.mean(BT)"
   ]
  },
  {
   "cell_type": "code",
   "execution_count": 21,
   "id": "e00b9636",
   "metadata": {},
   "outputs": [
    {
     "data": {
      "image/png": "[encoded data removed]",
      "text/plain": [
       "<Figure size 720x432 with 1 Axes>"
      ]
     },
     "metadata": {
      "needs_background": "light"
     },
     "output_type": "display_data"
    }
   ],
   "source": [
    "plt.figure(figsize=(10,6))\n",
    "plt.hist(BT, density=True, color='purple', bins=50)\n",
    "plt.xlabel(r'$B_T$')\n",
    "plt.ylabel('density')\n",
    "plt.title(r'$B_T$ density histogram')\n",
    "plt.show()"
   ]
  },
  {
   "cell_type": "markdown",
   "id": "edfef6d0",
   "metadata": {},
   "source": [
    "### Task 3"
   ]
  },
  {
   "cell_type": "code",
   "execution_count": 11,
   "id": "f90cc73e",
   "metadata": {},
   "outputs": [],
   "source": [
    "def SnapShot(graph, node, ind, pos):\n",
    "    \n",
    "        nodes = list(graph.nodes)\n",
    "        color_map = ['green']*(len(nodes))\n",
    "        nodeind = nodes.index(node)\n",
    "        color_map[nodeind] = 'blue'\n",
    "        plt.figure(figsize=(10,6), dpi=300)\n",
    "        nx.draw(graph, node_color=color_map, with_labels=True, pos=pos)            \n",
    "        plt.savefig(f'animation/{ind}.png')\n",
    "        plt.clf()\n",
    "        plt.close()"
   ]
  },
  {
   "cell_type": "code",
   "execution_count": 2,
   "id": "638f6e9f",
   "metadata": {},
   "outputs": [],
   "source": [
    "def GraphRW(graph, origin, animate=False, filename=None): #user specify starting point\n",
    "    \n",
    "    nodes = list(graph.nodes)\n",
    "    cur = origin\n",
    "    visited = set()\n",
    "    visited.add(cur)\n",
    "    i = 0\n",
    "    \n",
    "    if animate == True:\n",
    "        try:\n",
    "            os.makedirs('animation')\n",
    "        except FileExistsError:\n",
    "            pass\n",
    "        \n",
    "        pos = nx.spring_layout(graph)\n",
    "        SnapShot(graph, cur, i, pos)\n",
    "        \n",
    "    while len(visited) < len(nodes):\n",
    "        \n",
    "        nbrs = [j for j in graph.neighbors(cur)]\n",
    "        cur = rd.choice(nbrs)\n",
    "        visited.add(cur)\n",
    "        i += 1\n",
    "        \n",
    "        if animate == True:\n",
    "            SnapShot(graph, cur, i, pos)\n",
    "        \n",
    "    if animate == True:\n",
    "        g = glob.glob('animation/*.png')\n",
    "        g_sorted = [f'animation\\\\{j}.png' for j in range(len(g))]\n",
    "        frames = [imageio.imread(frame) for frame in g_sorted]\n",
    "        imageio.mimsave(f'animation/{filename}_rw.gif', frames)\n",
    "        \n",
    "        for file in g:\n",
    "            os.remove(file)\n",
    "        \n",
    "    return i"
   ]
  },
  {
   "cell_type": "code",
   "execution_count": 12,
   "id": "fcdd391f",
   "metadata": {},
   "outputs": [],
   "source": [
    "def hit_times(graph, origin, steps):\n",
    "    \n",
    "    htimes = np.zeros(steps)\n",
    "    for i in range(steps):\n",
    "        htime = GraphRW(graph, origin)\n",
    "        htimes[i] = htime\n",
    "    \n",
    "    return htimes"
   ]
  },
  {
   "cell_type": "code",
   "execution_count": 59,
   "id": "034c0782",
   "metadata": {},
   "outputs": [],
   "source": [
    "g = nx.erdos_renyi_graph(20, 0.5)"
   ]
  },
  {
   "cell_type": "code",
   "execution_count": 60,
   "id": "1e4ace54",
   "metadata": {},
   "outputs": [
    {
     "data": {
      "text/plain": [
       "147"
      ]
     },
     "execution_count": 60,
     "metadata": {},
     "output_type": "execute_result"
    }
   ],
   "source": [
    "GraphRW(g, 5, animate=True, filename='erdos_renyi')"
   ]
  },
  {
   "cell_type": "code",
   "execution_count": 5,
   "id": "77c016e6",
   "metadata": {},
   "outputs": [],
   "source": [
    "g1 = nx.watts_strogatz_graph(20, 2, 0.3)"
   ]
  },
  {
   "cell_type": "code",
   "execution_count": 6,
   "id": "9a0e60ee",
   "metadata": {},
   "outputs": [
    {
     "data": {
      "text/plain": [
       "175"
      ]
     },
     "execution_count": 6,
     "metadata": {},
     "output_type": "execute_result"
    }
   ],
   "source": [
    "GraphRW(g1, 10, animate=True, filename='watts_strogatz')"
   ]
  },
  {
   "cell_type": "code",
   "execution_count": 7,
   "id": "3154d60e",
   "metadata": {},
   "outputs": [],
   "source": [
    "g2 = nx.barabasi_albert_graph(20, 3)"
   ]
  },
  {
   "cell_type": "code",
   "execution_count": 8,
   "id": "145384ac",
   "metadata": {},
   "outputs": [
    {
     "data": {
      "text/plain": [
       "91"
      ]
     },
     "execution_count": 8,
     "metadata": {},
     "output_type": "execute_result"
    }
   ],
   "source": [
    "GraphRW(g2, 15, animate=True, filename='barabasi_albert')"
   ]
  }
 ],
 "metadata": {
  "kernelspec": {
   "display_name": "Python 3 (ipykernel)",
   "language": "python",
   "name": "python3"
  },
  "language_info": {
   "codemirror_mode": {
    "name": "ipython",
    "version": 3
   },
   "file_extension": ".py",
   "mimetype": "text/x-python",
   "name": "python",
   "nbconvert_exporter": "python",
   "pygments_lexer": "ipython3",
   "version": "3.9.12"
  }
 },
 "nbformat": 4,
 "nbformat_minor": 5
}
