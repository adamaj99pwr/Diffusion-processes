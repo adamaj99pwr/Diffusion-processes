{
 "cells": [
  {
   "cell_type": "code",
   "execution_count": 2,
   "metadata": {},
   "outputs": [],
   "source": [
    "import matplotlib.pyplot as plt\n",
    "import numpy as np\n",
    "import random as rd\n",
    "import os\n",
    "import glob\n",
    "from PIL import Image\n",
    "import networkx as nx"
   ]
  },
  {
   "cell_type": "markdown",
   "metadata": {},
   "source": [
    "### Task 1 + Task 2"
   ]
  },
  {
   "cell_type": "code",
   "execution_count": 62,
   "metadata": {},
   "outputs": [],
   "source": [
    "class Agent():\n",
    "    def __init__(self, x0, y0):\n",
    "        self.x = x0\n",
    "        self.y = y0\n",
    "        self.xs = [x0]\n",
    "        self.ys = [y0]\n",
    "        \n",
    "    def Reset(self):\n",
    "        x0 = self.xs[0]\n",
    "        y0 = self.ys[0]\n",
    "        self.__init__(x0, y0)\n",
    "        \n",
    "    def RandomWalk(self, steps):\n",
    "        \n",
    "        assert type(steps) == int\n",
    "        assert steps > 0\n",
    "\n",
    "        for i in range(steps):\n",
    "            direction = rd.randint(1, 4)\n",
    "            if direction == 1: \n",
    "                self.x += 1\n",
    "                self.xs.append(self.x)\n",
    "                self.ys.append(self.y)\n",
    "            elif direction == 2: \n",
    "                self.x -= 1\n",
    "                self.xs.append(self.x)\n",
    "                self.ys.append(self.y)\n",
    "            elif direction == 3: \n",
    "                self.y += 1\n",
    "                self.ys.append(self.y)\n",
    "                self.xs.append(self.x)\n",
    "            else: \n",
    "                self.y -= 1\n",
    "                self.ys.append(self.y)\n",
    "                self.xs.append(self.x)\n",
    "    \n",
    "    def PlotTrajectory(self, walktype):\n",
    "        \n",
    "        try:\n",
    "            os.makedirs('animation')\n",
    "        except FileExistsError:\n",
    "            pass\n",
    "        \n",
    "        xs = self.xs\n",
    "        ys = self.ys\n",
    "        \n",
    "        plt.scatter(xs[0], ys[0], c='green')\n",
    "        plt.xlim([min(xs)-0.1*min(xs), max(xs)+0.1*max(xs)])\n",
    "        plt.ylim([min(ys)-0.1*min(ys), max(ys)+0.1*max(ys)])\n",
    "        if walktype == 'rw':\n",
    "            plt.title(f'Random walk, steps = {len(xs)-1}')\n",
    "        elif walktype == 'prw':\n",
    "            plt.title(f'Pearson random walk, steps = {len(xs)-1}')\n",
    "        plt.savefig('animation/0.png')\n",
    "        \n",
    "        for i in range(1, len(xs)):\n",
    "            plt.plot(xs[:i+1], ys[:i+1], color='black')\n",
    "            plt.savefig(f'animation/{i}.png')\n",
    "        \n",
    "        plt.scatter(xs[-1], ys[-1], c='red')\n",
    "        plt.savefig(f'animation/{len(xs)}.png')\n",
    "        \n",
    "        g = glob.glob('animation/*.png')\n",
    "        g_sorted = [f'animation\\\\{j}.png' for j in range(len(g))]\n",
    "        frames = [Image.open(image) for image in g_sorted]\n",
    "        frame_one = frames[0]\n",
    "        \n",
    "        if walktype == 'rw':\n",
    "            frame_one.save('animation/rw_trajectory.gif', format='GIF', append_images=frames,\n",
    "                save_all=True, duration=200, disposal=1, loop=0)\n",
    "        elif walktype == 'prw':\n",
    "            frame_one.save('animation/prw_trajectory.gif', format='GIF', append_images=frames,\n",
    "                save_all=True, duration=200, disposal=1, loop=0)\n",
    "        \n",
    "        for file in g:\n",
    "            os.remove(file)\n",
    "        \n",
    "        plt.close()\n",
    "            \n",
    "    def PearsonRW(self, steps):\n",
    "        \n",
    "        assert type(steps) == int\n",
    "        assert steps > 0\n",
    "\n",
    "        for i in range(steps):\n",
    "            direction = rd.random()*2*np.pi\n",
    "            self.x += np.cos(direction)\n",
    "            self.y += np.sin(direction)\n",
    "            self.xs.append(self.x)\n",
    "            self.ys.append(self.y)"
   ]
  },
  {
   "cell_type": "code",
   "execution_count": 63,
   "metadata": {},
   "outputs": [],
   "source": [
    "a = Agent(50, 50)"
   ]
  },
  {
   "cell_type": "code",
   "execution_count": 64,
   "metadata": {},
   "outputs": [],
   "source": [
    "a.RandomWalk(100)"
   ]
  },
  {
   "cell_type": "code",
   "execution_count": 65,
   "metadata": {},
   "outputs": [],
   "source": [
    "a.PlotTrajectory('rw')"
   ]
  },
  {
   "cell_type": "code",
   "execution_count": 66,
   "metadata": {},
   "outputs": [],
   "source": [
    "a.Reset()"
   ]
  },
  {
   "cell_type": "code",
   "execution_count": 67,
   "metadata": {},
   "outputs": [],
   "source": [
    "a.PearsonRW(100)"
   ]
  },
  {
   "cell_type": "code",
   "execution_count": 68,
   "metadata": {},
   "outputs": [],
   "source": [
    "a.PlotTrajectory('prw')"
   ]
  },
  {
   "cell_type": "code",
   "execution_count": 73,
   "metadata": {},
   "outputs": [],
   "source": [
    "a1 = Agent(0, 0)\n",
    "AT = np.zeros(1000)\n",
    "for i in range(1000):\n",
    "    a1.PearsonRW(1000)\n",
    "    right_half = [x for x in a1.xs if x > 0]\n",
    "    AT[i] = len(right_half) / len(a1.xs)\n",
    "    a1.Reset()"
   ]
  },
  {
   "cell_type": "code",
   "execution_count": 79,
   "metadata": {},
   "outputs": [
    {
     "data": {
      "text/plain": [
       "0.4956593406593407"
      ]
     },
     "execution_count": 79,
     "metadata": {},
     "output_type": "execute_result"
    }
   ],
   "source": [
    "np.mean(AT)"
   ]
  },
  {
   "cell_type": "code",
   "execution_count": 102,
   "metadata": {
    "scrolled": false
   },
   "outputs": [
    {
     "data": {
      "image/png": "[encoded data removed]",
      "text/plain": [
       "<Figure size 720x432 with 1 Axes>"
      ]
     },
     "metadata": {
      "needs_background": "light"
     },
     "output_type": "display_data"
    }
   ],
   "source": [
    "plt.figure(figsize=(10,6))\n",
    "plt.hist(AT, density=True, color='purple')\n",
    "plt.xlabel(r'$A_T$')\n",
    "plt.ylabel('density')\n",
    "plt.title(r'$A_T$ density histogram')\n",
    "plt.show()"
   ]
  },
  {
   "cell_type": "code",
   "execution_count": 95,
   "metadata": {},
   "outputs": [],
   "source": [
    "a2 = Agent(0, 0)\n",
    "BT = np.zeros(1000)\n",
    "for i in range(1000):\n",
    "    a2.PearsonRW(1000)\n",
    "    pairs = [(a2.xs[j], a2.ys[j]) for j in range(1, 1001)]\n",
    "    first_quad = [p for p in pairs if p[0] > 0 and p[1] > 0]\n",
    "    BT[i] = len(first_quad) / len(pairs)\n",
    "    a2.Reset()"
   ]
  },
  {
   "cell_type": "code",
   "execution_count": 97,
   "metadata": {},
   "outputs": [
    {
     "data": {
      "text/plain": [
       "0.252314"
      ]
     },
     "execution_count": 97,
     "metadata": {},
     "output_type": "execute_result"
    }
   ],
   "source": [
    "np.mean(BT)"
   ]
  },
  {
   "cell_type": "code",
   "execution_count": 101,
   "metadata": {},
   "outputs": [
    {
     "data": {
      "image/png": "[encoded data removed]",
      "text/plain": [
       "<Figure size 720x432 with 1 Axes>"
      ]
     },
     "metadata": {
      "needs_background": "light"
     },
     "output_type": "display_data"
    }
   ],
   "source": [
    "plt.figure(figsize=(10,6))\n",
    "plt.hist(BT, density=True, color='purple')\n",
    "plt.xlabel(r'$B_T$')\n",
    "plt.ylabel('density')\n",
    "plt.title(r'$B_T$ density histogram')\n",
    "plt.show()"
   ]
  },
  {
   "cell_type": "markdown",
   "metadata": {},
   "source": [
    "### Task 3"
   ]
  },
  {
   "cell_type": "code",
   "execution_count": 28,
   "metadata": {},
   "outputs": [],
   "source": [
    "def SnapShot(graph, node, ind, pos):\n",
    "    \n",
    "        nodes = list(graph.nodes)\n",
    "        color_map = ['green']*(len(nodes))\n",
    "        nodeind = nodes.index(node)\n",
    "        color_map[nodeind] = 'blue'\n",
    "        nx.draw(graph, node_color=color_map, with_labels=True, pos=pos)\n",
    "        plt.savefig(f'animation/{ind}.png')"
   ]
  },
  {
   "cell_type": "code",
   "execution_count": 53,
   "metadata": {},
   "outputs": [],
   "source": [
    "def GraphRW(graph, animate=False, filename=None):\n",
    "    \n",
    "    nodes = list(graph.nodes)\n",
    "    origin = rd.choice(nodes)\n",
    "    cur = origin\n",
    "    visited = set()\n",
    "    visited.add(cur)\n",
    "    i = 0\n",
    "    \n",
    "    if animate == True:\n",
    "        try:\n",
    "            os.makedirs('animation')\n",
    "        except FileExistsError:\n",
    "            pass\n",
    "        \n",
    "        pos = nx.spring_layout(graph)\n",
    "        SnapShot(graph, cur, i, pos)\n",
    "        \n",
    "    while len(visited) < len(nodes):\n",
    "        \n",
    "        nbrs = [j for j in graph.neighbors(cur)]\n",
    "        cur = rd.choice(nbrs)\n",
    "        visited.add(cur)\n",
    "        i += 1\n",
    "        \n",
    "        if animate == True:\n",
    "            SnapShot(graph, cur, i, pos)\n",
    "        \n",
    "    if animate == True:\n",
    "        g = glob.glob('animation/*.png')\n",
    "        g_sorted = [f'animation\\\\{j}.png' for j in range(len(g))]\n",
    "        frames = [Image.open(image) for image in g_sorted]\n",
    "        frame_one = frames[0]\n",
    "        frame_one.save(f'animation/{filename}_rw.gif', format='GIF', append_images=frames,\n",
    "                       save_all=True, duration=500, disposal=1)\n",
    "        for file in g:\n",
    "            os.remove(file)\n",
    "        \n",
    "        plt.close()\n",
    "        \n",
    "    return i"
   ]
  },
  {
   "cell_type": "code",
   "execution_count": 38,
   "metadata": {},
   "outputs": [],
   "source": [
    "g = nx.star_graph(20)"
   ]
  },
  {
   "cell_type": "code",
   "execution_count": 39,
   "metadata": {},
   "outputs": [
    {
     "data": {
      "text/plain": [
       "126"
      ]
     },
     "execution_count": 39,
     "metadata": {},
     "output_type": "execute_result"
    }
   ],
   "source": [
    "GraphRW(g, animate=True, filename='star')"
   ]
  },
  {
   "cell_type": "code",
   "execution_count": 54,
   "metadata": {},
   "outputs": [],
   "source": [
    "g1 = nx.grid_graph((4,5))"
   ]
  },
  {
   "cell_type": "code",
   "execution_count": 55,
   "metadata": {},
   "outputs": [
    {
     "data": {
      "text/plain": [
       "123"
      ]
     },
     "execution_count": 55,
     "metadata": {},
     "output_type": "execute_result"
    }
   ],
   "source": [
    "GraphRW(g1, animate=True, filename='grid')"
   ]
  },
  {
   "cell_type": "code",
   "execution_count": 48,
   "metadata": {},
   "outputs": [],
   "source": [
    "g2 = nx.erdos_renyi_graph(20, 0.5)"
   ]
  },
  {
   "cell_type": "code",
   "execution_count": 49,
   "metadata": {},
   "outputs": [
    {
     "data": {
      "text/plain": [
       "56"
      ]
     },
     "execution_count": 49,
     "metadata": {},
     "output_type": "execute_result"
    }
   ],
   "source": [
    "GraphRW(g2, animate=True, filename='erdos_renyi')"
   ]
  },
  {
   "cell_type": "code",
   "execution_count": null,
   "metadata": {},
   "outputs": [],
   "source": []
  }
 ],
 "metadata": {
  "kernelspec": {
   "display_name": "Python 3",
   "language": "python",
   "name": "python3"
  },
  "language_info": {
   "codemirror_mode": {
    "name": "ipython",
    "version": 3
   },
   "file_extension": ".py",
   "mimetype": "text/x-python",
   "name": "python",
   "nbconvert_exporter": "python",
   "pygments_lexer": "ipython3",
   "version": "3.8.1"
  }
 },
 "nbformat": 4,
 "nbformat_minor": 5
}
