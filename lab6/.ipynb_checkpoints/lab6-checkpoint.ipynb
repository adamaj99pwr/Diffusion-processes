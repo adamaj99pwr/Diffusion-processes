{
 "cells": [
  {
   "cell_type": "code",
   "execution_count": 2,
   "metadata": {},
   "outputs": [],
   "source": [
    "import numpy as np\n",
    "import random as rd\n",
    "import matplotlib.pyplot as plt\n",
    "import networkx as nx"
   ]
  },
  {
   "cell_type": "code",
   "execution_count": 8,
   "metadata": {},
   "outputs": [],
   "source": [
    "def transform_graph(graph, opinion1):\n",
    "    \n",
    "    nodes = list(graph.nodes())\n",
    "    n = len(nodes)\n",
    "    opinion1_count = int(opinion1*n)\n",
    "    opinions = [1]*opinion1_count + [-1]*(n - opinion1_count)\n",
    "    random.shuffle(opinions)\n",
    "    neighbors = [0]*n\n",
    "    \n",
    "    for i in range(n):\n",
    "        neighbors[i] = list(graph.neighbors(nodes[i]))\n",
    "        \n",
    "    return opinions, neighbors"
   ]
  },
  {
   "cell_type": "code",
   "execution_count": 24,
   "metadata": {},
   "outputs": [],
   "source": [
    "def simulate_model(graph, opinion1, p, q, epsilon, MCS):\n",
    "    \n",
    "    new_graph = transform_graph(graph, opinion1)\n",
    "    opinions, neighbors = new_graph\n",
    "    node_num = len(opinions)\n",
    "    magnetization = np.zeros(MCS)\n",
    "    N = len(graph.nodes())\n",
    "    \n",
    "    for i in range(MCS):\n",
    "        node = np.random.randint(0, node_num)\n",
    "        opinion = opinions[node]\n",
    "        node_neighbors = random.choices(neighbors[node], k = q)\n",
    "        node_opinions = [opinions[j] for j in node_neighbors]\n",
    "        \n",
    "        if opinion == 1 and np.random.uniform() < p and np.random.uniform() < 0.5:\n",
    "            opinions[node] = -1\n",
    "        elif opinion == 1 and (node_opinions.count(-1) == q or np.random.uniform() < epsilon):\n",
    "            opinions[node] = -1\n",
    "            \n",
    "        elif opinion == -1 and np.random.uniform() < p and np.random.uniform() < 0.5:\n",
    "            opinions[node] = 1\n",
    "        elif opinion == -1 and (node_opinions.count(1) == q or np.random.uniform() < epsilon):\n",
    "            opinions[node] = 1\n",
    "            \n",
    "        magnetization[i] = np.sum(opinions) / N\n",
    "            \n",
    "    return magnetization"
   ]
  },
  {
   "cell_type": "code",
   "execution_count": 25,
   "metadata": {},
   "outputs": [],
   "source": [
    "g = nx.erdos_renyi_graph(20, 0.5)"
   ]
  },
  {
   "cell_type": "code",
   "execution_count": 26,
   "metadata": {},
   "outputs": [
    {
     "data": {
      "text/plain": [
       "6"
      ]
     },
     "execution_count": 26,
     "metadata": {},
     "output_type": "execute_result"
    }
   ],
   "source": [
    "min(dict(g.degree()).values())"
   ]
  },
  {
   "cell_type": "code",
   "execution_count": 27,
   "metadata": {},
   "outputs": [
    {
     "data": {
      "text/plain": [
       "array([ 0. ,  0. , -0.1, -0.1,  0. ,  0.1,  0.2,  0.1,  0.1,  0.1])"
      ]
     },
     "execution_count": 27,
     "metadata": {},
     "output_type": "execute_result"
    }
   ],
   "source": [
    "simulate_model(g, 0.5, 0.3, 4, 0.1, 10)"
   ]
  },
  {
   "cell_type": "code",
   "execution_count": null,
   "metadata": {},
   "outputs": [],
   "source": []
  }
 ],
 "metadata": {
  "kernelspec": {
   "display_name": "Python 3",
   "language": "python",
   "name": "python3"
  },
  "language_info": {
   "codemirror_mode": {
    "name": "ipython",
    "version": 3
   },
   "file_extension": ".py",
   "mimetype": "text/x-python",
   "name": "python",
   "nbconvert_exporter": "python",
   "pygments_lexer": "ipython3",
   "version": "3.8.1"
  }
 },
 "nbformat": 4,
 "nbformat_minor": 4
}
